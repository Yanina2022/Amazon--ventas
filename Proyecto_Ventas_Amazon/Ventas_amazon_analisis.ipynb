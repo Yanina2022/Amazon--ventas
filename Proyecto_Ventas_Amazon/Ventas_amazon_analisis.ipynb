{
 "cells": [
  {
   "cell_type": "markdown",
   "metadata": {},
   "source": [
    "Importacion librerias:"
   ]
  },
  {
   "cell_type": "code",
   "execution_count": 2,
   "metadata": {},
   "outputs": [],
   "source": [
    "import pandas as pd \n",
    "import numpy as np"
   ]
  },
  {
   "cell_type": "markdown",
   "metadata": {},
   "source": [
    "cargamos base de datos en formato csv:"
   ]
  },
  {
   "cell_type": "code",
   "execution_count": 3,
   "metadata": {},
   "outputs": [],
   "source": [
    "df = pd.read_csv('C:/Users/yana/Downloads/archive (1)/amazon_sales_data 2025.csv')"
   ]
  },
  {
   "cell_type": "markdown",
   "metadata": {},
   "source": [
    "Ver datos"
   ]
  },
  {
   "cell_type": "code",
   "execution_count": 4,
   "metadata": {},
   "outputs": [
    {
     "name": "stdout",
     "output_type": "stream",
     "text": [
      "  Order ID      Date        Product     Category  Price  Quantity  \\\n",
      "0  ORD0001  14-03-25  Running Shoes     Footwear     60         3   \n",
      "1  ORD0002  20-03-25     Headphones  Electronics    100         4   \n",
      "2  ORD0003  15-02-25  Running Shoes     Footwear     60         2   \n",
      "3  ORD0004  19-02-25  Running Shoes     Footwear     60         3   \n",
      "4  ORD0005  10-03-25     Smartwatch  Electronics    150         3   \n",
      "\n",
      "   Total Sales  Customer Name Customer Location Payment Method     Status  \n",
      "0          180     Emma Clark          New York     Debit Card  Cancelled  \n",
      "1          400  Emily Johnson     San Francisco     Debit Card    Pending  \n",
      "2          120       John Doe            Denver     Amazon Pay  Cancelled  \n",
      "3          180  Olivia Wilson            Dallas    Credit Card    Pending  \n",
      "4          450     Emma Clark          New York     Debit Card    Pending  \n"
     ]
    }
   ],
   "source": [
    "print(df.head())"
   ]
  },
  {
   "cell_type": "code",
   "execution_count": 5,
   "metadata": {},
   "outputs": [
    {
     "name": "stdout",
     "output_type": "stream",
     "text": [
      "<class 'pandas.core.frame.DataFrame'>\n",
      "RangeIndex: 250 entries, 0 to 249\n",
      "Data columns (total 11 columns):\n",
      " #   Column             Non-Null Count  Dtype \n",
      "---  ------             --------------  ----- \n",
      " 0   Order ID           250 non-null    object\n",
      " 1   Date               250 non-null    object\n",
      " 2   Product            250 non-null    object\n",
      " 3   Category           250 non-null    object\n",
      " 4   Price              250 non-null    int64 \n",
      " 5   Quantity           250 non-null    int64 \n",
      " 6   Total Sales        250 non-null    int64 \n",
      " 7   Customer Name      250 non-null    object\n",
      " 8   Customer Location  250 non-null    object\n",
      " 9   Payment Method     250 non-null    object\n",
      " 10  Status             250 non-null    object\n",
      "dtypes: int64(3), object(8)\n",
      "memory usage: 21.6+ KB\n",
      "None\n"
     ]
    }
   ],
   "source": [
    "print(df.info())"
   ]
  },
  {
   "cell_type": "markdown",
   "metadata": {},
   "source": [
    "Describir estadisticas basicas:"
   ]
  },
  {
   "cell_type": "code",
   "execution_count": 6,
   "metadata": {},
   "outputs": [
    {
     "name": "stdout",
     "output_type": "stream",
     "text": [
      "             Price    Quantity  Total Sales\n",
      "count   250.000000  250.000000   250.000000\n",
      "mean    343.580000    2.856000   975.380000\n",
      "std     380.635808    1.429489  1252.112254\n",
      "min      15.000000    1.000000    15.000000\n",
      "25%      40.000000    2.000000   100.000000\n",
      "50%     150.000000    3.000000   400.000000\n",
      "75%     600.000000    4.000000  1500.000000\n",
      "max    1200.000000    5.000000  6000.000000\n"
     ]
    }
   ],
   "source": [
    "print(df.describe())"
   ]
  },
  {
   "cell_type": "markdown",
   "metadata": {},
   "source": [
    "Limpieza de datos:"
   ]
  },
  {
   "cell_type": "code",
   "execution_count": 7,
   "metadata": {},
   "outputs": [
    {
     "name": "stdout",
     "output_type": "stream",
     "text": [
      "Order ID             0\n",
      "Date                 0\n",
      "Product              0\n",
      "Category             0\n",
      "Price                0\n",
      "Quantity             0\n",
      "Total Sales          0\n",
      "Customer Name        0\n",
      "Customer Location    0\n",
      "Payment Method       0\n",
      "Status               0\n",
      "dtype: int64\n"
     ]
    }
   ],
   "source": [
    "#verificar valores faltantes\n",
    "print(df.isnull().sum())"
   ]
  },
  {
   "cell_type": "markdown",
   "metadata": {},
   "source": [
    "eliminar filas con valores faltantes:\n"
   ]
  },
  {
   "cell_type": "code",
   "execution_count": 8,
   "metadata": {},
   "outputs": [],
   "source": [
    "df.dropna(inplace= True)"
   ]
  },
  {
   "cell_type": "markdown",
   "metadata": {},
   "source": [
    "eliminar duplicados:"
   ]
  },
  {
   "cell_type": "code",
   "execution_count": 9,
   "metadata": {},
   "outputs": [],
   "source": [
    "\n",
    "df.drop_duplicates(inplace=True)\n"
   ]
  },
  {
   "cell_type": "markdown",
   "metadata": {},
   "source": [
    "verificacion de resultados:"
   ]
  },
  {
   "cell_type": "code",
   "execution_count": 10,
   "metadata": {},
   "outputs": [
    {
     "name": "stdout",
     "output_type": "stream",
     "text": [
      "<bound method DataFrame.info of     Order ID      Date        Product     Category  Price  Quantity  \\\n",
      "0    ORD0001  14-03-25  Running Shoes     Footwear     60         3   \n",
      "1    ORD0002  20-03-25     Headphones  Electronics    100         4   \n",
      "2    ORD0003  15-02-25  Running Shoes     Footwear     60         2   \n",
      "3    ORD0004  19-02-25  Running Shoes     Footwear     60         3   \n",
      "4    ORD0005  10-03-25     Smartwatch  Electronics    150         3   \n",
      "..       ...       ...            ...          ...    ...       ...   \n",
      "245  ORD0246  17-03-25        T-Shirt     Clothing     20         2   \n",
      "246  ORD0247  30-03-25          Jeans     Clothing     40         1   \n",
      "247  ORD0248  05-03-25        T-Shirt     Clothing     20         2   \n",
      "248  ORD0249  08-03-25     Smartwatch  Electronics    150         3   \n",
      "249  ORD0250  19-02-25     Smartphone  Electronics    500         4   \n",
      "\n",
      "     Total Sales  Customer Name Customer Location Payment Method     Status  \n",
      "0            180     Emma Clark          New York     Debit Card  Cancelled  \n",
      "1            400  Emily Johnson     San Francisco     Debit Card    Pending  \n",
      "2            120       John Doe            Denver     Amazon Pay  Cancelled  \n",
      "3            180  Olivia Wilson            Dallas    Credit Card    Pending  \n",
      "4            450     Emma Clark          New York     Debit Card    Pending  \n",
      "..           ...            ...               ...            ...        ...  \n",
      "245           40  Daniel Harris             Miami     Debit Card  Cancelled  \n",
      "246           40  Sophia Miller            Dallas     Debit Card  Cancelled  \n",
      "247           40    Chris White            Denver     Debit Card  Cancelled  \n",
      "248          450  Emily Johnson          New York     Debit Card  Cancelled  \n",
      "249         2000  Emily Johnson           Seattle     Amazon Pay  Completed  \n",
      "\n",
      "[250 rows x 11 columns]>\n"
     ]
    }
   ],
   "source": [
    "print(df.info)"
   ]
  },
  {
   "cell_type": "markdown",
   "metadata": {},
   "source": [
    "Convertir Date a tipo fecha"
   ]
  },
  {
   "cell_type": "code",
   "execution_count": 11,
   "metadata": {},
   "outputs": [
    {
     "name": "stderr",
     "output_type": "stream",
     "text": [
      "C:\\Users\\yana\\AppData\\Local\\Temp\\ipykernel_8024\\1495359288.py:1: UserWarning: Could not infer format, so each element will be parsed individually, falling back to `dateutil`. To ensure parsing is consistent and as-expected, please specify a format.\n",
      "  df['columna_fecha'] = pd.to_datetime(df['Date'], errors='coerce')\n"
     ]
    }
   ],
   "source": [
    "df['columna_fecha'] = pd.to_datetime(df['Date'], errors='coerce')"
   ]
  },
  {
   "cell_type": "markdown",
   "metadata": {},
   "source": [
    "Guardar datos limpios:"
   ]
  },
  {
   "cell_type": "code",
   "execution_count": 12,
   "metadata": {},
   "outputs": [],
   "source": [
    "# Guardar el DataFrame limpio en un nuevo archivo CSV\n",
    "df.to_csv('datos_limpios_ventas_amazon.csv', index=False)"
   ]
  }
 ],
 "metadata": {
  "kernelspec": {
   "display_name": "Python 3",
   "language": "python",
   "name": "python3"
  },
  "language_info": {
   "codemirror_mode": {
    "name": "ipython",
    "version": 3
   },
   "file_extension": ".py",
   "mimetype": "text/x-python",
   "name": "python",
   "nbconvert_exporter": "python",
   "pygments_lexer": "ipython3",
   "version": "3.12.6"
  }
 },
 "nbformat": 4,
 "nbformat_minor": 2
}
